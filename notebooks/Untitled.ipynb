{
 "cells": [
  {
   "cell_type": "markdown",
   "id": "5b3bef32-4fc8-4e51-9f25-93f2a4eb03c1",
   "metadata": {},
   "source": [
    "conda create --prefix ./env pandas numpy matplotlib scikit-learn pandas \\\n",
    "conda activate ./env \\\n",
    "conda install jupyter \\\n",
    "conda deactivate"
   ]
  },
  {
   "cell_type": "code",
   "execution_count": 1,
   "id": "cecebe6e-8e28-4be4-bd91-5da370caf9cf",
   "metadata": {},
   "outputs": [
    {
     "data": {
      "text/plain": [
       "2"
      ]
     },
     "execution_count": 1,
     "metadata": {},
     "output_type": "execute_result"
    }
   ],
   "source": [
    "1 + 1"
   ]
  },
  {
   "cell_type": "code",
   "execution_count": null,
   "id": "5579ba00-bce7-4774-8546-ce564afe8aeb",
   "metadata": {},
   "outputs": [],
   "source": [
    "import numpy as np\n",
    "import pandas as pd\n",
    "import sklearn\n",
    "import matplotlib.pyplot as plt"
   ]
  },
  {
   "cell_type": "code",
   "execution_count": 2,
   "id": "4ac9b4c7-7044-49d4-87dc-a235eb0877b4",
   "metadata": {},
   "outputs": [
    {
     "name": "stdout",
     "output_type": "stream",
     "text": [
      "Untitled.ipynb \u001b[34menv\u001b[m\u001b[m\n"
     ]
    }
   ],
   "source": [
    "!ls"
   ]
  },
  {
   "cell_type": "markdown",
   "id": "44542caf-bfd2-420b-add8-eb5afa16c381",
   "metadata": {},
   "source": [
    "Toggle between edit and command mode with Esc and Enter, respectively.\n",
    "Once in command mode:\n",
    "\n",
    "    Scroll up and down your cells with your Up and Down keys.\n",
    "    Press A or B to insert a new cell above or below the active cell.\n",
    "    M will transform the active cell to a Markdown cell.\n",
    "    Y will set the active cell to a code cell.\n",
    "    D + D (D twice) will delete the active cell.\n",
    "    Z will undo cell deletion.\n",
    "    Hold Shift and press Up or Down to select multiple cells at once. With multiple cells selected, Shift + M will merge your selection.\n",
    "\n"
   ]
  }
 ],
 "metadata": {
  "kernelspec": {
   "display_name": "Python 3 (ipykernel)",
   "language": "python",
   "name": "python3"
  },
  "language_info": {
   "codemirror_mode": {
    "name": "ipython",
    "version": 3
   },
   "file_extension": ".py",
   "mimetype": "text/x-python",
   "name": "python",
   "nbconvert_exporter": "python",
   "pygments_lexer": "ipython3",
   "version": "3.10.13"
  }
 },
 "nbformat": 4,
 "nbformat_minor": 5
}
