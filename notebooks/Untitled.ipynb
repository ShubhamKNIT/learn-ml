{
 "cells": [
  {
   "cell_type": "markdown",
   "id": "5b3bef32-4fc8-4e51-9f25-93f2a4eb03c1",
   "metadata": {},
   "source": [
    "conda create --prefix ./env pandas numpy matplotlib scikit-learn pandas \\\n",
    "conda activate ./env \\\n",
    "conda install jupyter \\\n",
    "conda deactivate"
   ]
  },
  {
   "cell_type": "code",
   "execution_count": 1,
   "id": "cecebe6e-8e28-4be4-bd91-5da370caf9cf",
   "metadata": {},
   "outputs": [
    {
     "data": {
      "text/plain": [
       "2"
      ]
     },
     "execution_count": 1,
     "metadata": {},
     "output_type": "execute_result"
    }
   ],
   "source": [
    "1 + 1"
   ]
  },
  {
   "cell_type": "code",
   "execution_count": 2,
   "id": "5579ba00-bce7-4774-8546-ce564afe8aeb",
   "metadata": {},
   "outputs": [],
   "source": [
    "import numpy as np\n",
    "import pandas as pd\n",
    "import sklearn\n",
    "import matplotlib.pyplot as plt"
   ]
  },
  {
   "cell_type": "code",
   "execution_count": 3,
   "id": "4ac9b4c7-7044-49d4-87dc-a235eb0877b4",
   "metadata": {},
   "outputs": [
    {
     "name": "stdout",
     "output_type": "stream",
     "text": [
      "Untitled.ipynb                     introduction-to-numpy.ipynb\n",
      "example-notebook1.ipynb            introduction-to-pandas.ipynb\n",
      "gs_random_forest_model_1.joblib    introduction-to-scikit-learn.ipynb\n",
      "gs_random_forest_model_1.pkl       random_forest_model_1.pkl\n",
      "introduction-to-matplotlib.ipynb\n"
     ]
    }
   ],
   "source": [
    "!ls"
   ]
  },
  {
   "cell_type": "markdown",
   "id": "44542caf-bfd2-420b-add8-eb5afa16c381",
   "metadata": {},
   "source": [
    "Toggle between edit and command mode with Esc and Enter, respectively.\n",
    "Once in command mode:\n",
    "\n",
    "    Scroll up and down your cells with your Up and Down keys.\n",
    "    Press A or B to insert a new cell above or below the active cell.\n",
    "    M will transform the active cell to a Markdown cell.\n",
    "    Y will set the active cell to a code cell.\n",
    "    D + D (D twice) will delete the active cell.\n",
    "    Z will undo cell deletion.\n",
    "    Hold Shift and press Up or Down to select multiple cells at once. With multiple cells selected, Shift + M will merge your selection.\n",
    "\n"
   ]
  },
  {
   "cell_type": "code",
   "execution_count": 4,
   "id": "ad0286f8-5c5e-4b9b-b7c7-5c4a8941b8a5",
   "metadata": {},
   "outputs": [
    {
     "data": {
      "text/html": [
       "<div>\n",
       "<style scoped>\n",
       "    .dataframe tbody tr th:only-of-type {\n",
       "        vertical-align: middle;\n",
       "    }\n",
       "\n",
       "    .dataframe tbody tr th {\n",
       "        vertical-align: top;\n",
       "    }\n",
       "\n",
       "    .dataframe thead th {\n",
       "        text-align: right;\n",
       "    }\n",
       "</style>\n",
       "<table border=\"1\" class=\"dataframe\">\n",
       "  <thead>\n",
       "    <tr style=\"text-align: right;\">\n",
       "      <th></th>\n",
       "      <th>religion</th>\n",
       "      <th>politics</th>\n",
       "      <th>college_educated</th>\n",
       "      <th>parents</th>\n",
       "      <th>homeowner</th>\n",
       "      <th>gender</th>\n",
       "      <th>age</th>\n",
       "      <th>income</th>\n",
       "      <th>area</th>\n",
       "      <th>true_conversion</th>\n",
       "      <th>predicted_conversion</th>\n",
       "      <th>predicted_probability</th>\n",
       "    </tr>\n",
       "  </thead>\n",
       "  <tbody>\n",
       "    <tr>\n",
       "      <th>0</th>\n",
       "      <td>Unknown</td>\n",
       "      <td>Unknown</td>\n",
       "      <td>1</td>\n",
       "      <td>1</td>\n",
       "      <td>1</td>\n",
       "      <td>Unknown</td>\n",
       "      <td>55-64</td>\n",
       "      <td>Unknown</td>\n",
       "      <td>Unknown</td>\n",
       "      <td>0</td>\n",
       "      <td>0</td>\n",
       "      <td>0.001351</td>\n",
       "    </tr>\n",
       "    <tr>\n",
       "      <th>1</th>\n",
       "      <td>Other</td>\n",
       "      <td>Unknown</td>\n",
       "      <td>1</td>\n",
       "      <td>1</td>\n",
       "      <td>1</td>\n",
       "      <td>Unknown</td>\n",
       "      <td>55-64</td>\n",
       "      <td>Unknown</td>\n",
       "      <td>Urban</td>\n",
       "      <td>0</td>\n",
       "      <td>0</td>\n",
       "      <td>0.002238</td>\n",
       "    </tr>\n",
       "    <tr>\n",
       "      <th>2</th>\n",
       "      <td>Unknown</td>\n",
       "      <td>Unknown</td>\n",
       "      <td>1</td>\n",
       "      <td>1</td>\n",
       "      <td>1</td>\n",
       "      <td>F</td>\n",
       "      <td>55-64</td>\n",
       "      <td>Unknown</td>\n",
       "      <td>Unknown</td>\n",
       "      <td>0</td>\n",
       "      <td>0</td>\n",
       "      <td>0.002704</td>\n",
       "    </tr>\n",
       "    <tr>\n",
       "      <th>3</th>\n",
       "      <td>Unknown</td>\n",
       "      <td>Unknown</td>\n",
       "      <td>1</td>\n",
       "      <td>1</td>\n",
       "      <td>1</td>\n",
       "      <td>F</td>\n",
       "      <td>55-64</td>\n",
       "      <td>Unknown</td>\n",
       "      <td>Unknown</td>\n",
       "      <td>0</td>\n",
       "      <td>0</td>\n",
       "      <td>0.001967</td>\n",
       "    </tr>\n",
       "    <tr>\n",
       "      <th>4</th>\n",
       "      <td>Unknown</td>\n",
       "      <td>Unknown</td>\n",
       "      <td>1</td>\n",
       "      <td>1</td>\n",
       "      <td>1</td>\n",
       "      <td>F</td>\n",
       "      <td>55-64</td>\n",
       "      <td>Unknown</td>\n",
       "      <td>Urban</td>\n",
       "      <td>0</td>\n",
       "      <td>0</td>\n",
       "      <td>0.001681</td>\n",
       "    </tr>\n",
       "  </tbody>\n",
       "</table>\n",
       "</div>"
      ],
      "text/plain": [
       "  religion politics  college_educated  parents  homeowner   gender    age  \\\n",
       "0  Unknown  Unknown                 1        1          1  Unknown  55-64   \n",
       "1    Other  Unknown                 1        1          1  Unknown  55-64   \n",
       "2  Unknown  Unknown                 1        1          1        F  55-64   \n",
       "3  Unknown  Unknown                 1        1          1        F  55-64   \n",
       "4  Unknown  Unknown                 1        1          1        F  55-64   \n",
       "\n",
       "    income     area  true_conversion  predicted_conversion  \\\n",
       "0  Unknown  Unknown                0                     0   \n",
       "1  Unknown    Urban                0                     0   \n",
       "2  Unknown  Unknown                0                     0   \n",
       "3  Unknown  Unknown                0                     0   \n",
       "4  Unknown    Urban                0                     0   \n",
       "\n",
       "   predicted_probability  \n",
       "0               0.001351  \n",
       "1               0.002238  \n",
       "2               0.002704  \n",
       "3               0.001967  \n",
       "4               0.001681  "
      ]
     },
     "execution_count": 4,
     "metadata": {},
     "output_type": "execute_result"
    }
   ],
   "source": [
    "data = pd.read_csv(\"ad_campaign_data.csv\")\n",
    "data.head()"
   ]
  },
  {
   "cell_type": "code",
   "execution_count": 5,
   "id": "0a8cfe0c-583e-4746-8706-9e5dfa01e3e6",
   "metadata": {},
   "outputs": [
    {
     "name": "stdout",
     "output_type": "stream",
     "text": [
      "<class 'pandas.core.frame.DataFrame'>\n",
      "RangeIndex: 1443140 entries, 0 to 1443139\n",
      "Data columns (total 12 columns):\n",
      " #   Column                 Non-Null Count    Dtype  \n",
      "---  ------                 --------------    -----  \n",
      " 0   religion               1443140 non-null  object \n",
      " 1   politics               1443140 non-null  object \n",
      " 2   college_educated       1443140 non-null  int64  \n",
      " 3   parents                1443140 non-null  int64  \n",
      " 4   homeowner              1443140 non-null  int64  \n",
      " 5   gender                 1443140 non-null  object \n",
      " 6   age                    1443140 non-null  object \n",
      " 7   income                 1443140 non-null  object \n",
      " 8   area                   1443140 non-null  object \n",
      " 9   true_conversion        1443140 non-null  int64  \n",
      " 10  predicted_conversion   1443140 non-null  int64  \n",
      " 11  predicted_probability  1443140 non-null  float64\n",
      "dtypes: float64(1), int64(5), object(6)\n",
      "memory usage: 132.1+ MB\n"
     ]
    }
   ],
   "source": [
    "data.info()"
   ]
  },
  {
   "cell_type": "code",
   "execution_count": 15,
   "id": "e7e6bdf5-7240-48a5-8b46-4afe5d73d44b",
   "metadata": {},
   "outputs": [
    {
     "data": {
      "text/plain": [
       "religion\n",
       "Unknown         993135\n",
       "Christianity    234861\n",
       "Other           215144\n",
       "Name: count, dtype: int64"
      ]
     },
     "execution_count": 15,
     "metadata": {},
     "output_type": "execute_result"
    }
   ],
   "source": [
    "data['religion'].value_counts()"
   ]
  },
  {
   "cell_type": "code",
   "execution_count": 23,
   "id": "d5adc802-97cf-4916-9061-a1a49225412b",
   "metadata": {},
   "outputs": [
    {
     "name": "stdout",
     "output_type": "stream",
     "text": [
      "<class 'pandas.core.frame.DataFrame'>\n",
      "RangeIndex: 1443140 entries, 0 to 1443139\n",
      "Data columns (total 9 columns):\n",
      " #   Column            Non-Null Count    Dtype \n",
      "---  ------            --------------    ----- \n",
      " 0   religion          1443140 non-null  object\n",
      " 1   politics          1443140 non-null  object\n",
      " 2   college_educated  1443140 non-null  int64 \n",
      " 3   parents           1443140 non-null  int64 \n",
      " 4   homeowner         1443140 non-null  int64 \n",
      " 5   gender            1443140 non-null  object\n",
      " 6   age               1443140 non-null  object\n",
      " 7   income            1443140 non-null  object\n",
      " 8   area              1443140 non-null  object\n",
      "dtypes: int64(3), object(6)\n",
      "memory usage: 99.1+ MB\n"
     ]
    }
   ],
   "source": [
    "data.drop([\"true_conversion\", \"predicted_conversion\", \"predicted_probability\"], axis = 1)."
   ]
  },
  {
   "cell_type": "code",
   "execution_count": null,
   "id": "94a95e39-6a81-43e5-8217-47a6efbb9767",
   "metadata": {},
   "outputs": [],
   "source": []
  }
 ],
 "metadata": {
  "kernelspec": {
   "display_name": "Python 3 (ipykernel)",
   "language": "python",
   "name": "python3"
  },
  "language_info": {
   "codemirror_mode": {
    "name": "ipython",
    "version": 3
   },
   "file_extension": ".py",
   "mimetype": "text/x-python",
   "name": "python",
   "nbconvert_exporter": "python",
   "pygments_lexer": "ipython3",
   "version": "3.10.13"
  }
 },
 "nbformat": 4,
 "nbformat_minor": 5
}
