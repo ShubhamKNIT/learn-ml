{
  "nbformat": 4,
  "nbformat_minor": 0,
  "metadata": {
    "colab": {
      "provenance": [],
      "toc_visible": true,
      "authorship_tag": "ABX9TyMukENFMCtuvgIa646xBGKe",
      "include_colab_link": true
    },
    "kernelspec": {
      "name": "python3",
      "display_name": "Python 3"
    },
    "language_info": {
      "name": "python"
    }
  },
  "cells": [
    {
      "cell_type": "markdown",
      "metadata": {
        "id": "view-in-github",
        "colab_type": "text"
      },
      "source": [
        "<a href=\"https://colab.research.google.com/github/ShubhamKNIT/learn-python/blob/main/notebooks/00_tensorflow_fundamentals.ipynb\" target=\"_parent\"><img src=\"https://colab.research.google.com/assets/colab-badge.svg\" alt=\"Open In Colab\"/></a>"
      ]
    },
    {
      "cell_type": "markdown",
      "source": [
        "What we're going to learn:\n",
        "1. Intro to tensors\n",
        "2. Getting info from tensors\n",
        "3. Manipulating tensors\n",
        "4. Tensors & numpy\n",
        "5. Using @tf.function (a way to speed up your regular Python functions)\n",
        "6. Excersies to try for yourself"
      ],
      "metadata": {
        "id": "HwbK-yooy-OU"
      }
    },
    {
      "cell_type": "markdown",
      "source": [
        "# Intro to Tensors"
      ],
      "metadata": {
        "id": "O7wvgF-IzubA"
      }
    },
    {
      "cell_type": "code",
      "execution_count": null,
      "metadata": {
        "colab": {
          "base_uri": "https://localhost:8080/"
        },
        "id": "rrQ0k8xPyrSb",
        "outputId": "738181fa-eb2b-49bc-ff87-9830072aca50"
      },
      "outputs": [
        {
          "output_type": "stream",
          "name": "stdout",
          "text": [
            "2.15.0\n"
          ]
        }
      ],
      "source": [
        "# Import tensorflow\n",
        "import tensorflow as tf\n",
        "print(tf.__version__)"
      ]
    },
    {
      "cell_type": "code",
      "source": [
        "# Creating tensors with tf.constant()\n",
        "scalar = tf.constant(7)\n",
        "scalar"
      ],
      "metadata": {
        "colab": {
          "base_uri": "https://localhost:8080/"
        },
        "id": "0DALEIiBz5IL",
        "outputId": "4bd69426-ae9c-4aac-c166-b544f417a781"
      },
      "execution_count": null,
      "outputs": [
        {
          "output_type": "execute_result",
          "data": {
            "text/plain": [
              "<tf.Tensor: shape=(), dtype=int32, numpy=7>"
            ]
          },
          "metadata": {},
          "execution_count": 2
        }
      ]
    },
    {
      "cell_type": "code",
      "source": [
        " scalar.ndim"
      ],
      "metadata": {
        "colab": {
          "base_uri": "https://localhost:8080/"
        },
        "id": "H9cYwCwd0IHZ",
        "outputId": "517cb319-17a9-47ac-eb64-16617d8200cb"
      },
      "execution_count": null,
      "outputs": [
        {
          "output_type": "execute_result",
          "data": {
            "text/plain": [
              "0"
            ]
          },
          "metadata": {},
          "execution_count": 3
        }
      ]
    },
    {
      "cell_type": "code",
      "source": [
        "# Create a vector\n",
        "vector = tf.constant([1, 2])\n",
        "vector"
      ],
      "metadata": {
        "colab": {
          "base_uri": "https://localhost:8080/"
        },
        "id": "qOvf32jB3PTM",
        "outputId": "021e7c74-392e-47fa-dbfd-bd142a6a74f6"
      },
      "execution_count": null,
      "outputs": [
        {
          "output_type": "execute_result",
          "data": {
            "text/plain": [
              "<tf.Tensor: shape=(2,), dtype=int32, numpy=array([1, 2], dtype=int32)>"
            ]
          },
          "metadata": {},
          "execution_count": 4
        }
      ]
    },
    {
      "cell_type": "code",
      "source": [
        "vector.ndim"
      ],
      "metadata": {
        "colab": {
          "base_uri": "https://localhost:8080/"
        },
        "id": "5s56jbzd6X_B",
        "outputId": "f0a2947c-cdb2-4ff8-f73e-78ca24ee4098"
      },
      "execution_count": null,
      "outputs": [
        {
          "output_type": "execute_result",
          "data": {
            "text/plain": [
              "1"
            ]
          },
          "metadata": {},
          "execution_count": 5
        }
      ]
    },
    {
      "cell_type": "code",
      "source": [
        "matrix = tf.constant([[1, 2],\n",
        "                      [3, 4]])\n",
        "matrix"
      ],
      "metadata": {
        "colab": {
          "base_uri": "https://localhost:8080/"
        },
        "id": "NXfBHV4-6b9T",
        "outputId": "76592c3d-7245-46b2-875a-5d9134d9f5b5"
      },
      "execution_count": null,
      "outputs": [
        {
          "output_type": "execute_result",
          "data": {
            "text/plain": [
              "<tf.Tensor: shape=(2, 2), dtype=int32, numpy=\n",
              "array([[1, 2],\n",
              "       [3, 4]], dtype=int32)>"
            ]
          },
          "metadata": {},
          "execution_count": 6
        }
      ]
    },
    {
      "cell_type": "code",
      "source": [
        "matrix.ndim"
      ],
      "metadata": {
        "colab": {
          "base_uri": "https://localhost:8080/"
        },
        "id": "DCnc35qQ6i0V",
        "outputId": "6e927a30-1d88-42ff-befa-15b36b4cc7f6"
      },
      "execution_count": null,
      "outputs": [
        {
          "output_type": "execute_result",
          "data": {
            "text/plain": [
              "2"
            ]
          },
          "metadata": {},
          "execution_count": 7
        }
      ]
    },
    {
      "cell_type": "code",
      "source": [
        "# create another matrix with dtype\n",
        "matrix_1 = tf.constant([[1., 2.],\n",
        "                        [3., 4.]], dtype = tf.float32)\n",
        "matrix_1"
      ],
      "metadata": {
        "colab": {
          "base_uri": "https://localhost:8080/"
        },
        "id": "UHKIRmaY6npA",
        "outputId": "11c120ec-f329-4e2c-80f0-fe2d2e96c79b"
      },
      "execution_count": null,
      "outputs": [
        {
          "output_type": "execute_result",
          "data": {
            "text/plain": [
              "<tf.Tensor: shape=(2, 2), dtype=float32, numpy=\n",
              "array([[1., 2.],\n",
              "       [3., 4.]], dtype=float32)>"
            ]
          },
          "metadata": {},
          "execution_count": 8
        }
      ]
    },
    {
      "cell_type": "code",
      "source": [
        "matrix_1.ndim, matrix_1.dtype"
      ],
      "metadata": {
        "colab": {
          "base_uri": "https://localhost:8080/"
        },
        "id": "kHpBy9jI7CT-",
        "outputId": "42dd4811-6366-4850-aa72-205a4b41da7f"
      },
      "execution_count": null,
      "outputs": [
        {
          "output_type": "execute_result",
          "data": {
            "text/plain": [
              "(2, tf.float32)"
            ]
          },
          "metadata": {},
          "execution_count": 9
        }
      ]
    },
    {
      "cell_type": "code",
      "source": [
        "tensor_3d = tf.constant([[[1, 2, 9],\n",
        "                          [2, 3, 8]],\n",
        "                         [[3, 4, 7],\n",
        "                          [4, 5, 6]]])\n",
        "tensor_3d"
      ],
      "metadata": {
        "colab": {
          "base_uri": "https://localhost:8080/"
        },
        "id": "DIQ1GzvD7Ghd",
        "outputId": "de39f5d7-1344-4a7b-fd52-c02ed658e4f8"
      },
      "execution_count": null,
      "outputs": [
        {
          "output_type": "execute_result",
          "data": {
            "text/plain": [
              "<tf.Tensor: shape=(2, 2, 3), dtype=int32, numpy=\n",
              "array([[[1, 2, 9],\n",
              "        [2, 3, 8]],\n",
              "\n",
              "       [[3, 4, 7],\n",
              "        [4, 5, 6]]], dtype=int32)>"
            ]
          },
          "metadata": {},
          "execution_count": 10
        }
      ]
    },
    {
      "cell_type": "code",
      "source": [
        "tensor_3d.ndim"
      ],
      "metadata": {
        "colab": {
          "base_uri": "https://localhost:8080/"
        },
        "id": "o3u_IdD37ico",
        "outputId": "909ccd24-fec0-495b-de01-2e0eb8ac5600"
      },
      "execution_count": null,
      "outputs": [
        {
          "output_type": "execute_result",
          "data": {
            "text/plain": [
              "3"
            ]
          },
          "metadata": {},
          "execution_count": 11
        }
      ]
    },
    {
      "cell_type": "markdown",
      "source": [
        "### Creating tensors with `tf.Variable`\n",
        "- variables are mutable, constant are\n",
        "- https://stackoverflow.com/questions/44880564/tf-variable-vs-tf-constant-in-tensorflow"
      ],
      "metadata": {
        "id": "Xq5b2oUZ7_2q"
      }
    },
    {
      "cell_type": "code",
      "source": [
        "var = tf.Variable([10, 7])\n",
        "const = tf.constant([10, 7])\n",
        "var, const"
      ],
      "metadata": {
        "colab": {
          "base_uri": "https://localhost:8080/"
        },
        "id": "Glzzdc6I7TsZ",
        "outputId": "4796a611-1468-499e-c838-6f8241d4c35b"
      },
      "execution_count": null,
      "outputs": [
        {
          "output_type": "execute_result",
          "data": {
            "text/plain": [
              "(<tf.Variable 'Variable:0' shape=(2,) dtype=int32, numpy=array([10,  7], dtype=int32)>,\n",
              " <tf.Tensor: shape=(2,), dtype=int32, numpy=array([10,  7], dtype=int32)>)"
            ]
          },
          "metadata": {},
          "execution_count": 12
        }
      ]
    },
    {
      "cell_type": "code",
      "source": [
        "# lets try to manipulate the defined tensor variables\n",
        "var[0].assign(7)\n",
        "var[0]"
      ],
      "metadata": {
        "colab": {
          "base_uri": "https://localhost:8080/"
        },
        "id": "2qXyKNmT731h",
        "outputId": "132b9be3-6980-42fc-cd9e-f52db8c1521e"
      },
      "execution_count": null,
      "outputs": [
        {
          "output_type": "execute_result",
          "data": {
            "text/plain": [
              "<tf.Tensor: shape=(), dtype=int32, numpy=7>"
            ]
          },
          "metadata": {},
          "execution_count": 13
        }
      ]
    },
    {
      "cell_type": "code",
      "source": [
        "const[0].assign(70)\n",
        "const[0]"
      ],
      "metadata": {
        "colab": {
          "base_uri": "https://localhost:8080/",
          "height": 275
        },
        "id": "qdnudc3G8SIB",
        "outputId": "c2c9d266-e2e0-46f4-99af-fd4d976788d3"
      },
      "execution_count": null,
      "outputs": [
        {
          "output_type": "error",
          "ename": "AttributeError",
          "evalue": "'tensorflow.python.framework.ops.EagerTensor' object has no attribute 'assign'",
          "traceback": [
            "\u001b[0;31m---------------------------------------------------------------------------\u001b[0m",
            "\u001b[0;31mAttributeError\u001b[0m                            Traceback (most recent call last)",
            "\u001b[0;32m<ipython-input-14-f3bb002e8c52>\u001b[0m in \u001b[0;36m<cell line: 1>\u001b[0;34m()\u001b[0m\n\u001b[0;32m----> 1\u001b[0;31m \u001b[0mconst\u001b[0m\u001b[0;34m[\u001b[0m\u001b[0;36m0\u001b[0m\u001b[0;34m]\u001b[0m\u001b[0;34m.\u001b[0m\u001b[0massign\u001b[0m\u001b[0;34m(\u001b[0m\u001b[0;36m70\u001b[0m\u001b[0;34m)\u001b[0m\u001b[0;34m\u001b[0m\u001b[0;34m\u001b[0m\u001b[0m\n\u001b[0m\u001b[1;32m      2\u001b[0m \u001b[0mconst\u001b[0m\u001b[0;34m[\u001b[0m\u001b[0;36m0\u001b[0m\u001b[0;34m]\u001b[0m\u001b[0;34m\u001b[0m\u001b[0;34m\u001b[0m\u001b[0m\n",
            "\u001b[0;32m/usr/local/lib/python3.10/dist-packages/tensorflow/python/framework/tensor.py\u001b[0m in \u001b[0;36m__getattr__\u001b[0;34m(self, name)\u001b[0m\n\u001b[1;32m    259\u001b[0m         \u001b[0mtf\u001b[0m\u001b[0;34m.\u001b[0m\u001b[0mexperimental\u001b[0m\u001b[0;34m.\u001b[0m\u001b[0mnumpy\u001b[0m\u001b[0;34m.\u001b[0m\u001b[0mexperimental_enable_numpy_behavior\u001b[0m\u001b[0;34m(\u001b[0m\u001b[0;34m)\u001b[0m\u001b[0;34m\u001b[0m\u001b[0;34m\u001b[0m\u001b[0m\n\u001b[1;32m    260\u001b[0m       \"\"\")\n\u001b[0;32m--> 261\u001b[0;31m     \u001b[0mself\u001b[0m\u001b[0;34m.\u001b[0m\u001b[0m__getattribute__\u001b[0m\u001b[0;34m(\u001b[0m\u001b[0mname\u001b[0m\u001b[0;34m)\u001b[0m\u001b[0;34m\u001b[0m\u001b[0;34m\u001b[0m\u001b[0m\n\u001b[0m\u001b[1;32m    262\u001b[0m \u001b[0;34m\u001b[0m\u001b[0m\n\u001b[1;32m    263\u001b[0m   \u001b[0;34m@\u001b[0m\u001b[0mproperty\u001b[0m\u001b[0;34m\u001b[0m\u001b[0;34m\u001b[0m\u001b[0m\n",
            "\u001b[0;31mAttributeError\u001b[0m: 'tensorflow.python.framework.ops.EagerTensor' object has no attribute 'assign'"
          ]
        }
      ]
    },
    {
      "cell_type": "markdown",
      "source": [
        "### Creating random tensors"
      ],
      "metadata": {
        "id": "v_meqbYd8xIK"
      }
    },
    {
      "cell_type": "code",
      "source": [
        "rand_1 = tf.random.Generator.from_seed(42)\n",
        "rand_1 = rand_1.normal(shape=(2, 4))\n",
        "rand_2 = tf.random.Generator.from_seed(42)\n",
        "rand_2 = rand_2.normal(shape=[2, 4])\n",
        "\n",
        "rand_1, rand_2, rand_1 == rand_2"
      ],
      "metadata": {
        "colab": {
          "base_uri": "https://localhost:8080/"
        },
        "id": "zsCCHzMP8-dI",
        "outputId": "90f91ec2-9dc8-491a-d3da-aae0bac5b764"
      },
      "execution_count": null,
      "outputs": [
        {
          "output_type": "execute_result",
          "data": {
            "text/plain": [
              "(<tf.Tensor: shape=(2, 4), dtype=float32, numpy=\n",
              " array([[-0.7565803 , -0.06854702,  0.07595026, -1.2573844 ],\n",
              "        [-0.23193763, -1.8107855 ,  0.09988727, -0.50998646]],\n",
              "       dtype=float32)>,\n",
              " <tf.Tensor: shape=(2, 4), dtype=float32, numpy=\n",
              " array([[-0.7565803 , -0.06854702,  0.07595026, -1.2573844 ],\n",
              "        [-0.23193763, -1.8107855 ,  0.09988727, -0.50998646]],\n",
              "       dtype=float32)>,\n",
              " <tf.Tensor: shape=(2, 4), dtype=bool, numpy=\n",
              " array([[ True,  True,  True,  True],\n",
              "        [ True,  True,  True,  True]])>)"
            ]
          },
          "metadata": {},
          "execution_count": 24
        }
      ]
    },
    {
      "cell_type": "markdown",
      "source": [
        "### Shuffle the order of elements in the tensors\n",
        "\n",
        "- Shuffling the data might be valuable when learning is not affected (generally)"
      ],
      "metadata": {
        "id": "expvkvxG_bAy"
      }
    },
    {
      "cell_type": "code",
      "source": [
        "rand_3 = tf.random.Generator.from_seed(7)\n",
        "rand_3 = rand_3.normal(shape = (3, 4))\n",
        "rand_3"
      ],
      "metadata": {
        "colab": {
          "base_uri": "https://localhost:8080/"
        },
        "id": "2Q_yRRC6_fan",
        "outputId": "e5c9cded-8c7e-42e0-ffd5-22924cdf33e1"
      },
      "execution_count": null,
      "outputs": [
        {
          "output_type": "execute_result",
          "data": {
            "text/plain": [
              "<tf.Tensor: shape=(3, 4), dtype=float32, numpy=\n",
              "array([[-1.3240396 ,  0.28785667, -0.8757901 , -0.08857018],\n",
              "       [ 0.69211644,  0.84215707, -0.06378496,  0.92800784],\n",
              "       [-0.6039789 , -0.1766927 ,  0.04221033,  0.29037967]],\n",
              "      dtype=float32)>"
            ]
          },
          "metadata": {},
          "execution_count": 25
        }
      ]
    },
    {
      "cell_type": "code",
      "source": [
        "rand_3 = tf.random.shuffle(rand_3, seed = 42)\n",
        "rand_3"
      ],
      "metadata": {
        "colab": {
          "base_uri": "https://localhost:8080/"
        },
        "id": "E5_mjMLnAqGB",
        "outputId": "eb1acd0a-818b-46f7-bab7-82e2bc207035"
      },
      "execution_count": null,
      "outputs": [
        {
          "output_type": "execute_result",
          "data": {
            "text/plain": [
              "<tf.Tensor: shape=(3, 4), dtype=float32, numpy=\n",
              "array([[-0.6039789 , -0.1766927 ,  0.04221033,  0.29037967],\n",
              "       [ 0.69211644,  0.84215707, -0.06378496,  0.92800784],\n",
              "       [-1.3240396 ,  0.28785667, -0.8757901 , -0.08857018]],\n",
              "      dtype=float32)>"
            ]
          },
          "metadata": {},
          "execution_count": 29
        }
      ]
    },
    {
      "cell_type": "markdown",
      "source": [
        "### Other ways of creating tensors"
      ],
      "metadata": {
        "id": "ckzDJUXhCPiQ"
      }
    },
    {
      "cell_type": "code",
      "source": [
        "ones = tf.ones([3, 4])\n",
        "ones"
      ],
      "metadata": {
        "colab": {
          "base_uri": "https://localhost:8080/"
        },
        "id": "c6W8rsZECSui",
        "outputId": "9c812bc7-756a-4c46-9d7e-33202b1c5b22"
      },
      "execution_count": null,
      "outputs": [
        {
          "output_type": "execute_result",
          "data": {
            "text/plain": [
              "<tf.Tensor: shape=(3, 4), dtype=float32, numpy=\n",
              "array([[1., 1., 1., 1.],\n",
              "       [1., 1., 1., 1.],\n",
              "       [1., 1., 1., 1.]], dtype=float32)>"
            ]
          },
          "metadata": {},
          "execution_count": 33
        }
      ]
    },
    {
      "cell_type": "code",
      "source": [
        "zeros = tf.zeros([3, 4])\n",
        "zeros"
      ],
      "metadata": {
        "colab": {
          "base_uri": "https://localhost:8080/"
        },
        "id": "P1dd_TEaCb2Y",
        "outputId": "08e8f7d8-b786-4180-a48a-31dac1143cfb"
      },
      "execution_count": null,
      "outputs": [
        {
          "output_type": "execute_result",
          "data": {
            "text/plain": [
              "<tf.Tensor: shape=(3, 4), dtype=float32, numpy=\n",
              "array([[0., 0., 0., 0.],\n",
              "       [0., 0., 0., 0.],\n",
              "       [0., 0., 0., 0.]], dtype=float32)>"
            ]
          },
          "metadata": {},
          "execution_count": 35
        }
      ]
    },
    {
      "cell_type": "markdown",
      "source": [
        "### Turning numpy into tensors\n",
        "\n",
        "- Numpy array can be run on CPU/GPU, whereas Tensors can run on both including TPU."
      ],
      "metadata": {
        "id": "kib6J2FmCmx-"
      }
    },
    {
      "cell_type": "code",
      "source": [
        "import numpy as np\n",
        "arr_1 = np.arange(1, 11, dtype = np.int32)\n",
        "arr_1"
      ],
      "metadata": {
        "colab": {
          "base_uri": "https://localhost:8080/"
        },
        "id": "OvWWwDDSCiPV",
        "outputId": "438ec90c-1e92-4027-b138-9cd0b3d70caa"
      },
      "execution_count": null,
      "outputs": [
        {
          "output_type": "execute_result",
          "data": {
            "text/plain": [
              "array([ 1,  2,  3,  4,  5,  6,  7,  8,  9, 10], dtype=int32)"
            ]
          },
          "metadata": {},
          "execution_count": 44
        }
      ]
    },
    {
      "cell_type": "code",
      "source": [
        "arr_1 = np.reshape(arr_1, newshape = [2, 5])\n",
        "arr_1"
      ],
      "metadata": {
        "colab": {
          "base_uri": "https://localhost:8080/"
        },
        "id": "BuMuy_pwDhFS",
        "outputId": "b2087a88-626a-41bd-98b2-33dc0d74bd9f"
      },
      "execution_count": null,
      "outputs": [
        {
          "output_type": "execute_result",
          "data": {
            "text/plain": [
              "array([[ 1,  2,  3,  4,  5],\n",
              "       [ 6,  7,  8,  9, 10]], dtype=int32)"
            ]
          },
          "metadata": {},
          "execution_count": 45
        }
      ]
    },
    {
      "cell_type": "code",
      "source": [
        "tf_arr_1 = tf.constant(arr_1)\n",
        "tf_arr_1"
      ],
      "metadata": {
        "colab": {
          "base_uri": "https://localhost:8080/"
        },
        "id": "ZZU63S3rDz3l",
        "outputId": "66a0df0a-3f34-4624-da39-3fe0df4eaa54"
      },
      "execution_count": null,
      "outputs": [
        {
          "output_type": "execute_result",
          "data": {
            "text/plain": [
              "<tf.Tensor: shape=(2, 5), dtype=int32, numpy=\n",
              "array([[ 1,  2,  3,  4,  5],\n",
              "       [ 6,  7,  8,  9, 10]], dtype=int32)>"
            ]
          },
          "metadata": {},
          "execution_count": 46
        }
      ]
    },
    {
      "cell_type": "code",
      "source": [
        "tf_arr_2 = tf.constant(arr_1, shape = [1, 10])\n",
        "tf_arr_2"
      ],
      "metadata": {
        "colab": {
          "base_uri": "https://localhost:8080/"
        },
        "id": "dh4HV8cvEJwQ",
        "outputId": "59e34be2-f762-4857-8c0e-3e029b51e095"
      },
      "execution_count": null,
      "outputs": [
        {
          "output_type": "execute_result",
          "data": {
            "text/plain": [
              "<tf.Tensor: shape=(1, 10), dtype=int32, numpy=array([[ 1,  2,  3,  4,  5,  6,  7,  8,  9, 10]], dtype=int32)>"
            ]
          },
          "metadata": {},
          "execution_count": 47
        }
      ]
    },
    {
      "cell_type": "code",
      "source": [
        "tf_arr_3 = tf.reshape(tf_arr_2, shape = [5, 2])\n",
        "tf_arr_3"
      ],
      "metadata": {
        "colab": {
          "base_uri": "https://localhost:8080/"
        },
        "id": "7lpaHT69EX5D",
        "outputId": "b6a2f6b3-6bee-44c5-8b86-f6d6718b638e"
      },
      "execution_count": null,
      "outputs": [
        {
          "output_type": "execute_result",
          "data": {
            "text/plain": [
              "<tf.Tensor: shape=(5, 2), dtype=int32, numpy=\n",
              "array([[ 1,  2],\n",
              "       [ 3,  4],\n",
              "       [ 5,  6],\n",
              "       [ 7,  8],\n",
              "       [ 9, 10]], dtype=int32)>"
            ]
          },
          "metadata": {},
          "execution_count": 48
        }
      ]
    },
    {
      "cell_type": "markdown",
      "source": [
        "# Getting information from tensors\n",
        "- shape\n",
        "- rank\n",
        "- axis or dimensions\n",
        "- size"
      ],
      "metadata": {
        "id": "Grc-ncQVEmf3"
      }
    },
    {
      "cell_type": "code",
      "source": [
        "rank4_tf = tf.zeros([2, 3, 5, 5])\n",
        "rank4_tf"
      ],
      "metadata": {
        "colab": {
          "base_uri": "https://localhost:8080/"
        },
        "id": "CbooGYpuEju9",
        "outputId": "953c2286-39b1-47fb-efd1-89a01189c5b1"
      },
      "execution_count": null,
      "outputs": [
        {
          "output_type": "execute_result",
          "data": {
            "text/plain": [
              "<tf.Tensor: shape=(2, 3, 5, 5), dtype=float32, numpy=\n",
              "array([[[[0., 0., 0., 0., 0.],\n",
              "         [0., 0., 0., 0., 0.],\n",
              "         [0., 0., 0., 0., 0.],\n",
              "         [0., 0., 0., 0., 0.],\n",
              "         [0., 0., 0., 0., 0.]],\n",
              "\n",
              "        [[0., 0., 0., 0., 0.],\n",
              "         [0., 0., 0., 0., 0.],\n",
              "         [0., 0., 0., 0., 0.],\n",
              "         [0., 0., 0., 0., 0.],\n",
              "         [0., 0., 0., 0., 0.]],\n",
              "\n",
              "        [[0., 0., 0., 0., 0.],\n",
              "         [0., 0., 0., 0., 0.],\n",
              "         [0., 0., 0., 0., 0.],\n",
              "         [0., 0., 0., 0., 0.],\n",
              "         [0., 0., 0., 0., 0.]]],\n",
              "\n",
              "\n",
              "       [[[0., 0., 0., 0., 0.],\n",
              "         [0., 0., 0., 0., 0.],\n",
              "         [0., 0., 0., 0., 0.],\n",
              "         [0., 0., 0., 0., 0.],\n",
              "         [0., 0., 0., 0., 0.]],\n",
              "\n",
              "        [[0., 0., 0., 0., 0.],\n",
              "         [0., 0., 0., 0., 0.],\n",
              "         [0., 0., 0., 0., 0.],\n",
              "         [0., 0., 0., 0., 0.],\n",
              "         [0., 0., 0., 0., 0.]],\n",
              "\n",
              "        [[0., 0., 0., 0., 0.],\n",
              "         [0., 0., 0., 0., 0.],\n",
              "         [0., 0., 0., 0., 0.],\n",
              "         [0., 0., 0., 0., 0.],\n",
              "         [0., 0., 0., 0., 0.]]]], dtype=float32)>"
            ]
          },
          "metadata": {},
          "execution_count": 53
        }
      ]
    },
    {
      "cell_type": "code",
      "source": [
        "rank4_tf.shape, rank4_tf.ndim, rank4_tf.dtype, tf.size(rank4_tf), tf.size(rank4_tf).numpy()"
      ],
      "metadata": {
        "colab": {
          "base_uri": "https://localhost:8080/"
        },
        "id": "dBUIG9jwFRwT",
        "outputId": "bd5076e7-aa7d-4e09-83fb-d9a7f363a2c8"
      },
      "execution_count": null,
      "outputs": [
        {
          "output_type": "execute_result",
          "data": {
            "text/plain": [
              "(TensorShape([2, 3, 5, 5]),\n",
              " 4,\n",
              " tf.float32,\n",
              " <tf.Tensor: shape=(), dtype=int32, numpy=150>,\n",
              " 150)"
            ]
          },
          "metadata": {},
          "execution_count": 63
        }
      ]
    },
    {
      "cell_type": "markdown",
      "source": [
        "### Indexing tensors"
      ],
      "metadata": {
        "id": "wsMWO0CQG3nN"
      }
    },
    {
      "cell_type": "code",
      "source": [
        "rank4_tf[:2, :2, :2, :2]"
      ],
      "metadata": {
        "colab": {
          "base_uri": "https://localhost:8080/"
        },
        "id": "DSrE888LFfbI",
        "outputId": "5343887f-0292-4d60-e613-d9cdf4495778"
      },
      "execution_count": null,
      "outputs": [
        {
          "output_type": "execute_result",
          "data": {
            "text/plain": [
              "<tf.Tensor: shape=(2, 2, 2, 2), dtype=float32, numpy=\n",
              "array([[[[0., 0.],\n",
              "         [0., 0.]],\n",
              "\n",
              "        [[0., 0.],\n",
              "         [0., 0.]]],\n",
              "\n",
              "\n",
              "       [[[0., 0.],\n",
              "         [0., 0.]],\n",
              "\n",
              "        [[0., 0.],\n",
              "         [0., 0.]]]], dtype=float32)>"
            ]
          },
          "metadata": {},
          "execution_count": 65
        }
      ]
    },
    {
      "cell_type": "code",
      "source": [
        "arr_2 = np.arange(1, 97, dtype = np.int32)\n",
        "rank4_tf2 = tf.constant(arr_2, shape = [2, 3, 4, 4])\n",
        "rank4_tf2"
      ],
      "metadata": {
        "colab": {
          "base_uri": "https://localhost:8080/"
        },
        "id": "KBMTZQqdHFAW",
        "outputId": "841ffd7c-5f28-411e-bd10-e230e5fd64a2"
      },
      "execution_count": null,
      "outputs": [
        {
          "output_type": "execute_result",
          "data": {
            "text/plain": [
              "<tf.Tensor: shape=(2, 3, 4, 4), dtype=int32, numpy=\n",
              "array([[[[ 1,  2,  3,  4],\n",
              "         [ 5,  6,  7,  8],\n",
              "         [ 9, 10, 11, 12],\n",
              "         [13, 14, 15, 16]],\n",
              "\n",
              "        [[17, 18, 19, 20],\n",
              "         [21, 22, 23, 24],\n",
              "         [25, 26, 27, 28],\n",
              "         [29, 30, 31, 32]],\n",
              "\n",
              "        [[33, 34, 35, 36],\n",
              "         [37, 38, 39, 40],\n",
              "         [41, 42, 43, 44],\n",
              "         [45, 46, 47, 48]]],\n",
              "\n",
              "\n",
              "       [[[49, 50, 51, 52],\n",
              "         [53, 54, 55, 56],\n",
              "         [57, 58, 59, 60],\n",
              "         [61, 62, 63, 64]],\n",
              "\n",
              "        [[65, 66, 67, 68],\n",
              "         [69, 70, 71, 72],\n",
              "         [73, 74, 75, 76],\n",
              "         [77, 78, 79, 80]],\n",
              "\n",
              "        [[81, 82, 83, 84],\n",
              "         [85, 86, 87, 88],\n",
              "         [89, 90, 91, 92],\n",
              "         [93, 94, 95, 96]]]], dtype=int32)>"
            ]
          },
          "metadata": {},
          "execution_count": 66
        }
      ]
    },
    {
      "cell_type": "code",
      "source": [
        "rank4_tf2[:, :, 0, 0]"
      ],
      "metadata": {
        "colab": {
          "base_uri": "https://localhost:8080/"
        },
        "id": "5ky23007Hsr8",
        "outputId": "01390785-21da-47fe-fde8-8b2b04c5b14c"
      },
      "execution_count": null,
      "outputs": [
        {
          "output_type": "execute_result",
          "data": {
            "text/plain": [
              "<tf.Tensor: shape=(2, 3), dtype=int32, numpy=\n",
              "array([[ 1, 17, 33],\n",
              "       [49, 65, 81]], dtype=int32)>"
            ]
          },
          "metadata": {},
          "execution_count": 72
        }
      ]
    },
    {
      "cell_type": "code",
      "source": [
        "rank4_tf2[:, :, -1, -1]"
      ],
      "metadata": {
        "colab": {
          "base_uri": "https://localhost:8080/"
        },
        "id": "HnbNM3O0H3Su",
        "outputId": "b764d7a1-f979-4fbb-ea6f-ecf5b9eff547"
      },
      "execution_count": null,
      "outputs": [
        {
          "output_type": "execute_result",
          "data": {
            "text/plain": [
              "<tf.Tensor: shape=(2, 3), dtype=int32, numpy=\n",
              "array([[16, 32, 48],\n",
              "       [64, 80, 96]], dtype=int32)>"
            ]
          },
          "metadata": {},
          "execution_count": 73
        }
      ]
    },
    {
      "cell_type": "code",
      "source": [
        "rank3_tf = tf.zeros(shape = [3, 3])\n",
        "rank3_tf"
      ],
      "metadata": {
        "colab": {
          "base_uri": "https://localhost:8080/"
        },
        "id": "a5eIEqUYIjbz",
        "outputId": "b587ad13-ac83-48eb-c331-32879eebe82f"
      },
      "execution_count": null,
      "outputs": [
        {
          "output_type": "execute_result",
          "data": {
            "text/plain": [
              "<tf.Tensor: shape=(3, 3), dtype=float32, numpy=\n",
              "array([[0., 0., 0.],\n",
              "       [0., 0., 0.],\n",
              "       [0., 0., 0.]], dtype=float32)>"
            ]
          },
          "metadata": {},
          "execution_count": 75
        }
      ]
    },
    {
      "cell_type": "code",
      "source": [
        "# adding extra axis to tensors\n",
        "rank3_tf[tf.newaxis, :,:]"
      ],
      "metadata": {
        "colab": {
          "base_uri": "https://localhost:8080/"
        },
        "id": "QFA-soEYJhvt",
        "outputId": "203a1eff-33e8-4bec-e9b7-fd608250e80d"
      },
      "execution_count": null,
      "outputs": [
        {
          "output_type": "execute_result",
          "data": {
            "text/plain": [
              "<tf.Tensor: shape=(1, 3, 3), dtype=float32, numpy=\n",
              "array([[[0., 0., 0.],\n",
              "        [0., 0., 0.],\n",
              "        [0., 0., 0.]]], dtype=float32)>"
            ]
          },
          "metadata": {},
          "execution_count": 104
        }
      ]
    },
    {
      "cell_type": "code",
      "source": [
        "# alternate way to add extra axis to tensors\n",
        "tf.expand_dims(rank3_tf, 2)"
      ],
      "metadata": {
        "colab": {
          "base_uri": "https://localhost:8080/"
        },
        "id": "R5cozeL1KpBk",
        "outputId": "f326b7ff-c380-4d04-b996-69ef4b96f4ea"
      },
      "execution_count": null,
      "outputs": [
        {
          "output_type": "execute_result",
          "data": {
            "text/plain": [
              "<tf.Tensor: shape=(3, 3, 1), dtype=float32, numpy=\n",
              "array([[[0.],\n",
              "        [0.],\n",
              "        [0.]],\n",
              "\n",
              "       [[0.],\n",
              "        [0.],\n",
              "        [0.]],\n",
              "\n",
              "       [[0.],\n",
              "        [0.],\n",
              "        [0.]]], dtype=float32)>"
            ]
          },
          "metadata": {},
          "execution_count": 82
        }
      ]
    },
    {
      "cell_type": "code",
      "source": [
        "# dimension expand beyond the original ndim range (-ndim, ndim)\n",
        "tf.expand_dims(rank4_tf2, 2)"
      ],
      "metadata": {
        "colab": {
          "base_uri": "https://localhost:8080/"
        },
        "id": "MeQmsGj8LBbO",
        "outputId": "3707a427-9a09-4d42-ad89-fe1aa61bab93"
      },
      "execution_count": null,
      "outputs": [
        {
          "output_type": "execute_result",
          "data": {
            "text/plain": [
              "<tf.Tensor: shape=(2, 3, 1, 4, 4), dtype=int32, numpy=\n",
              "array([[[[[ 1,  2,  3,  4],\n",
              "          [ 5,  6,  7,  8],\n",
              "          [ 9, 10, 11, 12],\n",
              "          [13, 14, 15, 16]]],\n",
              "\n",
              "\n",
              "        [[[17, 18, 19, 20],\n",
              "          [21, 22, 23, 24],\n",
              "          [25, 26, 27, 28],\n",
              "          [29, 30, 31, 32]]],\n",
              "\n",
              "\n",
              "        [[[33, 34, 35, 36],\n",
              "          [37, 38, 39, 40],\n",
              "          [41, 42, 43, 44],\n",
              "          [45, 46, 47, 48]]]],\n",
              "\n",
              "\n",
              "\n",
              "       [[[[49, 50, 51, 52],\n",
              "          [53, 54, 55, 56],\n",
              "          [57, 58, 59, 60],\n",
              "          [61, 62, 63, 64]]],\n",
              "\n",
              "\n",
              "        [[[65, 66, 67, 68],\n",
              "          [69, 70, 71, 72],\n",
              "          [73, 74, 75, 76],\n",
              "          [77, 78, 79, 80]]],\n",
              "\n",
              "\n",
              "        [[[81, 82, 83, 84],\n",
              "          [85, 86, 87, 88],\n",
              "          [89, 90, 91, 92],\n",
              "          [93, 94, 95, 96]]]]], dtype=int32)>"
            ]
          },
          "metadata": {},
          "execution_count": 102
        }
      ]
    },
    {
      "cell_type": "markdown",
      "source": [
        "# Manipulating Tensors\n",
        "\n",
        "- Basic Operations: `+`, `-`, `*`, `\\`, `%`, `//`\n",
        "- using tf.math.func() or tf.func() e.g, tf.add(a, b) operates the data on TPU, then the simple operations like a + b"
      ],
      "metadata": {
        "id": "-n8mOxjeNf72"
      }
    },
    {
      "cell_type": "code",
      "source": [
        "const_1 = tf.constant([[1, 2, 3],\n",
        "                       [4, 5, 6]], dtype = tf.int32)\n",
        "const_1 + 4"
      ],
      "metadata": {
        "colab": {
          "base_uri": "https://localhost:8080/"
        },
        "id": "LARTXdlFLUXE",
        "outputId": "ef154602-ffa9-434f-84f8-091d586a18b3"
      },
      "execution_count": null,
      "outputs": [
        {
          "output_type": "execute_result",
          "data": {
            "text/plain": [
              "<tf.Tensor: shape=(2, 3), dtype=int32, numpy=\n",
              "array([[ 5,  6,  7],\n",
              "       [ 8,  9, 10]], dtype=int32)>"
            ]
          },
          "metadata": {},
          "execution_count": 123
        }
      ]
    },
    {
      "cell_type": "code",
      "source": [
        "const_1 - 4"
      ],
      "metadata": {
        "colab": {
          "base_uri": "https://localhost:8080/"
        },
        "id": "tSJBtqDiOmQp",
        "outputId": "774359f1-e642-4661-9cbe-7fb9e57a8073"
      },
      "execution_count": null,
      "outputs": [
        {
          "output_type": "execute_result",
          "data": {
            "text/plain": [
              "<tf.Tensor: shape=(2, 3), dtype=int32, numpy=\n",
              "array([[-3, -2, -1],\n",
              "       [ 0,  1,  2]], dtype=int32)>"
            ]
          },
          "metadata": {},
          "execution_count": 124
        }
      ]
    },
    {
      "cell_type": "code",
      "source": [
        "const_1 * 2"
      ],
      "metadata": {
        "colab": {
          "base_uri": "https://localhost:8080/"
        },
        "id": "hUtw4gTAeez6",
        "outputId": "814deb14-e1fa-4d46-8d52-4a48dbd85991"
      },
      "execution_count": null,
      "outputs": [
        {
          "output_type": "execute_result",
          "data": {
            "text/plain": [
              "<tf.Tensor: shape=(2, 3), dtype=int32, numpy=\n",
              "array([[ 2,  4,  6],\n",
              "       [ 8, 10, 12]], dtype=int32)>"
            ]
          },
          "metadata": {},
          "execution_count": 125
        }
      ]
    },
    {
      "cell_type": "code",
      "source": [
        "const_1 / 2"
      ],
      "metadata": {
        "colab": {
          "base_uri": "https://localhost:8080/"
        },
        "id": "Vf3NB2rtekTW",
        "outputId": "35ac721b-f523-4e2f-f57e-de75ac3c5aa1"
      },
      "execution_count": null,
      "outputs": [
        {
          "output_type": "execute_result",
          "data": {
            "text/plain": [
              "<tf.Tensor: shape=(2, 3), dtype=float64, numpy=\n",
              "array([[0.5, 1. , 1.5],\n",
              "       [2. , 2.5, 3. ]])>"
            ]
          },
          "metadata": {},
          "execution_count": 126
        }
      ]
    },
    {
      "cell_type": "code",
      "source": [
        "const_1 // 2"
      ],
      "metadata": {
        "colab": {
          "base_uri": "https://localhost:8080/"
        },
        "id": "Pse8UPeKenVl",
        "outputId": "f604a4b3-7a5d-4c77-b676-0540229979dc"
      },
      "execution_count": null,
      "outputs": [
        {
          "output_type": "execute_result",
          "data": {
            "text/plain": [
              "<tf.Tensor: shape=(2, 3), dtype=int32, numpy=\n",
              "array([[0, 1, 1],\n",
              "       [2, 2, 3]], dtype=int32)>"
            ]
          },
          "metadata": {},
          "execution_count": 127
        }
      ]
    },
    {
      "cell_type": "code",
      "source": [
        "const_1 % 2"
      ],
      "metadata": {
        "colab": {
          "base_uri": "https://localhost:8080/"
        },
        "id": "QaCfUgnJeo8l",
        "outputId": "f61782d6-42b2-4152-da1b-56d42e249455"
      },
      "execution_count": null,
      "outputs": [
        {
          "output_type": "execute_result",
          "data": {
            "text/plain": [
              "<tf.Tensor: shape=(2, 3), dtype=int32, numpy=\n",
              "array([[1, 0, 1],\n",
              "       [0, 1, 0]], dtype=int32)>"
            ]
          },
          "metadata": {},
          "execution_count": 128
        }
      ]
    },
    {
      "cell_type": "code",
      "source": [
        "tf.add(const_1, 2)"
      ],
      "metadata": {
        "colab": {
          "base_uri": "https://localhost:8080/"
        },
        "id": "lul_VHqIeqq5",
        "outputId": "7326366b-7fff-4ba2-ecd9-7038868c4568"
      },
      "execution_count": null,
      "outputs": [
        {
          "output_type": "execute_result",
          "data": {
            "text/plain": [
              "<tf.Tensor: shape=(2, 3), dtype=int32, numpy=\n",
              "array([[3, 4, 5],\n",
              "       [6, 7, 8]], dtype=int32)>"
            ]
          },
          "metadata": {},
          "execution_count": 134
        }
      ]
    },
    {
      "cell_type": "code",
      "source": [
        "tf.subtract(const_1, const_1)"
      ],
      "metadata": {
        "colab": {
          "base_uri": "https://localhost:8080/"
        },
        "id": "vxijuQ2afpCR",
        "outputId": "c094d488-095a-4030-f627-925d96857eb6"
      },
      "execution_count": null,
      "outputs": [
        {
          "output_type": "execute_result",
          "data": {
            "text/plain": [
              "<tf.Tensor: shape=(2, 3), dtype=int32, numpy=\n",
              "array([[0, 0, 0],\n",
              "       [0, 0, 0]], dtype=int32)>"
            ]
          },
          "metadata": {},
          "execution_count": 131
        }
      ]
    },
    {
      "cell_type": "code",
      "source": [
        "tf.multiply(const_1, [[2],[3]])"
      ],
      "metadata": {
        "colab": {
          "base_uri": "https://localhost:8080/"
        },
        "id": "uksJBfkufs2s",
        "outputId": "b2685202-f710-4161-83bc-a65b2517088c"
      },
      "execution_count": null,
      "outputs": [
        {
          "output_type": "execute_result",
          "data": {
            "text/plain": [
              "<tf.Tensor: shape=(2, 3), dtype=int32, numpy=\n",
              "array([[ 2,  4,  6],\n",
              "       [12, 15, 18]], dtype=int32)>"
            ]
          },
          "metadata": {},
          "execution_count": 135
        }
      ]
    },
    {
      "cell_type": "code",
      "source": [
        "tf.tensordot(const_1, [1, 2,3], axes = 1)"
      ],
      "metadata": {
        "colab": {
          "base_uri": "https://localhost:8080/"
        },
        "id": "3tgc-ZUTf3oJ",
        "outputId": "1e29faeb-5edc-4fdd-bb9b-b2cea00cef9c"
      },
      "execution_count": null,
      "outputs": [
        {
          "output_type": "execute_result",
          "data": {
            "text/plain": [
              "<tf.Tensor: shape=(2,), dtype=int32, numpy=array([14, 32], dtype=int32)>"
            ]
          },
          "metadata": {},
          "execution_count": 148
        }
      ]
    },
    {
      "cell_type": "code",
      "source": [
        "const_1"
      ],
      "metadata": {
        "colab": {
          "base_uri": "https://localhost:8080/"
        },
        "id": "GYXCfKPkiTDU",
        "outputId": "0004c38b-7679-41ae-8db8-5055ef8caf02"
      },
      "execution_count": null,
      "outputs": [
        {
          "output_type": "execute_result",
          "data": {
            "text/plain": [
              "<tf.Tensor: shape=(2, 3), dtype=int32, numpy=\n",
              "array([[1, 2, 3],\n",
              "       [4, 5, 6]], dtype=int32)>"
            ]
          },
          "metadata": {},
          "execution_count": 146
        }
      ]
    },
    {
      "cell_type": "code",
      "source": [
        "tf.tensordot(const_1, [[1],[2]], axes = 0)"
      ],
      "metadata": {
        "colab": {
          "base_uri": "https://localhost:8080/"
        },
        "id": "h8xkoshMjQMv",
        "outputId": "24e73148-8df6-44ff-faa6-23fd5a42d19a"
      },
      "execution_count": null,
      "outputs": [
        {
          "output_type": "execute_result",
          "data": {
            "text/plain": [
              "<tf.Tensor: shape=(2, 3, 2, 1), dtype=int32, numpy=\n",
              "array([[[[ 1],\n",
              "         [ 2]],\n",
              "\n",
              "        [[ 2],\n",
              "         [ 4]],\n",
              "\n",
              "        [[ 3],\n",
              "         [ 6]]],\n",
              "\n",
              "\n",
              "       [[[ 4],\n",
              "         [ 8]],\n",
              "\n",
              "        [[ 5],\n",
              "         [10]],\n",
              "\n",
              "        [[ 6],\n",
              "         [12]]]], dtype=int32)>"
            ]
          },
          "metadata": {},
          "execution_count": 152
        }
      ]
    },
    {
      "cell_type": "markdown",
      "source": [
        "### Matrix Multiplication in tensorflow\n",
        "$$A_{(m,n1)} x B_{(n2,n)} = C_{(m, n)}; n1 == n2 $$\n",
        "\n"
      ],
      "metadata": {
        "id": "XNpsUdLtlQ5y"
      }
    },
    {
      "cell_type": "code",
      "source": [
        "# Matrix mulitplication A x B with python\n",
        "const_1@tf.transpose(const_1)"
      ],
      "metadata": {
        "colab": {
          "base_uri": "https://localhost:8080/"
        },
        "id": "PB5f0mcsjhqp",
        "outputId": "36d85269-8400-482b-9c9c-150f16560257"
      },
      "execution_count": null,
      "outputs": [
        {
          "output_type": "execute_result",
          "data": {
            "text/plain": [
              "<tf.Tensor: shape=(2, 2), dtype=int32, numpy=\n",
              "array([[14, 32],\n",
              "       [32, 77]], dtype=int32)>"
            ]
          },
          "metadata": {},
          "execution_count": 160
        }
      ]
    },
    {
      "cell_type": "code",
      "source": [
        "# Matrix multiplication with tensor\n",
        "tf.matmul(const_1, tf.transpose(const_1))"
      ],
      "metadata": {
        "colab": {
          "base_uri": "https://localhost:8080/"
        },
        "id": "RrybRrUYj47Q",
        "outputId": "f2895beb-71e1-4b63-9381-4cc0c6fcbba2"
      },
      "execution_count": null,
      "outputs": [
        {
          "output_type": "execute_result",
          "data": {
            "text/plain": [
              "<tf.Tensor: shape=(2, 2), dtype=int32, numpy=\n",
              "array([[14, 32],\n",
              "       [32, 77]], dtype=int32)>"
            ]
          },
          "metadata": {},
          "execution_count": 161
        }
      ]
    },
    {
      "cell_type": "markdown",
      "source": [
        "### Dot Product\n",
        "- Matrix multiplication is also referred to as dot product\n",
        "- `tf.tensordot()`\n",
        "- `tf.matmul()`\n"
      ],
      "metadata": {
        "id": "V3IYCCPpmo5l"
      }
    },
    {
      "cell_type": "code",
      "source": [
        "# Dot product using tensordot()\n",
        "tf.tensordot(const_1, tf.transpose(const_1), axes = 1)"
      ],
      "metadata": {
        "colab": {
          "base_uri": "https://localhost:8080/"
        },
        "id": "q8UO9kp_lh8d",
        "outputId": "029616cc-79f7-4de8-f6a8-e31e641cc5a6"
      },
      "execution_count": null,
      "outputs": [
        {
          "output_type": "execute_result",
          "data": {
            "text/plain": [
              "<tf.Tensor: shape=(2, 2), dtype=int32, numpy=\n",
              "array([[14, 32],\n",
              "       [32, 77]], dtype=int32)>"
            ]
          },
          "metadata": {},
          "execution_count": 164
        }
      ]
    },
    {
      "cell_type": "code",
      "source": [
        "tf.matmul(const_1, tf.transpose(const_1))"
      ],
      "metadata": {
        "colab": {
          "base_uri": "https://localhost:8080/"
        },
        "id": "og-pSPpRnNxw",
        "outputId": "ed2b47be-8ca7-4381-ee4a-14b1b0dfa5d9"
      },
      "execution_count": null,
      "outputs": [
        {
          "output_type": "execute_result",
          "data": {
            "text/plain": [
              "<tf.Tensor: shape=(2, 2), dtype=int32, numpy=\n",
              "array([[14, 32],\n",
              "       [32, 77]], dtype=int32)>"
            ]
          },
          "metadata": {},
          "execution_count": 165
        }
      ]
    },
    {
      "cell_type": "markdown",
      "source": [
        "### Changing DataType of tensor\n",
        "- Mixed Precision: https://www.tensorflow.org/guide/mixed_precision\n",
        "- APIs: https://www.tensorflow.org/api_docs/python/tf/keras/mixed_precision\n",
        "\n",
        "- Converting numbesrs to lower dtypes or using mixed of lower and higher dtypes numbers increases the performance of the processing numbers."
      ],
      "metadata": {
        "id": "-0_1B_k-wECz"
      }
    },
    {
      "cell_type": "code",
      "source": [
        "B = tf.constant([1, 2, 3], dtype = tf.float32)\n",
        "B.dtype"
      ],
      "metadata": {
        "colab": {
          "base_uri": "https://localhost:8080/"
        },
        "id": "Tls0Rk2-nWF0",
        "outputId": "44830045-e100-4369-a288-44fa24d11d63"
      },
      "execution_count": null,
      "outputs": [
        {
          "output_type": "execute_result",
          "data": {
            "text/plain": [
              "tf.float32"
            ]
          },
          "metadata": {},
          "execution_count": 166
        }
      ]
    },
    {
      "cell_type": "code",
      "source": [
        "D = tf.cast(B, dtype = tf.float16)\n",
        "D.dtype"
      ],
      "metadata": {
        "colab": {
          "base_uri": "https://localhost:8080/"
        },
        "id": "wrbdnPZhxdai",
        "outputId": "00df130a-d68c-4d91-c250-6e2c5aa8fe3e"
      },
      "execution_count": null,
      "outputs": [
        {
          "output_type": "execute_result",
          "data": {
            "text/plain": [
              "tf.float16"
            ]
          },
          "metadata": {},
          "execution_count": 167
        }
      ]
    },
    {
      "cell_type": "code",
      "source": [
        "B.dtype"
      ],
      "metadata": {
        "colab": {
          "base_uri": "https://localhost:8080/"
        },
        "id": "KbiJJ2KJxkw0",
        "outputId": "44db1596-3b3f-4970-b920-c7c6cd081607"
      },
      "execution_count": null,
      "outputs": [
        {
          "output_type": "execute_result",
          "data": {
            "text/plain": [
              "tf.float32"
            ]
          },
          "metadata": {},
          "execution_count": 168
        }
      ]
    },
    {
      "cell_type": "code",
      "source": [],
      "metadata": {
        "id": "X505X7xAxnwK"
      },
      "execution_count": null,
      "outputs": []
    }
  ]
}